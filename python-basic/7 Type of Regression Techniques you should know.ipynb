{
 "cells": [
  {
   "cell_type": "markdown",
   "metadata": {},
   "source": [
    "# Introduction\n",
    "Linear and Logistic Regressions are usually the first algorithms people learn in predictive modeling. Due to their popularity, a lot of analysts even end up thinking that they are the only form of regressions. The ones who are slightly more involved think that they are the most important amongst all forms of regression analysis.\n",
    "\n",
    "The truth is that there are innumerable forms of regressions, which can be performed. Each form has its own importance and a specific condition where they are best suited to apply. \n",
    "\n",
    "# Table of Contents\n",
    "1. What is Regression Analysis?\n",
    "2. Why do we use Regression Analysis?\n",
    "3. What are the types of Regressions?\n",
    "    - Linear Regression\n",
    "    - Logistic Regression\n",
    "    - Polynomial Regression\n",
    "    - Stepwise Regression\n",
    "    - Ridge Regression\n",
    "    - Lasso Regressio \n",
    "    - Elastic Net Regression\n",
    "4. How to select the right Regression Model?\n",
    "\n",
    "# 1. What is Regression Analysis?\n",
    "\n",
    "Regression Analysis is a form of predictive modelling techniques which investigates the relationship between a **dependent** (target) and **independent variable(s)** (predictor). This technique is used for forecasting, time series modelling and finding the causal effect relationship between the variables. For example, relationship between rash driving and number of road accidents by a driver is best suited through regression.\n",
    "\n",
    "Regression analysis is an important tool for modelling and analyzing data. here, we fit a curve/line to the data points, in such a manner that the differences between the distances of data points from the curve or line is minimized.\n",
    "\n",
    "# 2. Why do we use Regression Analysis?\n",
    "\n",
    "Regression Analysis estimates the relationship between two or more variables. For example: let's say you want to estimate growth in sales of a company based on current economic onditions. You have the recent company data which indicates that the growth in sales is sound two and a half times the growth in the economy. Using this insight, we can predict future sales of the company based on current & past information.\n",
    "\n",
    "There are multiple benefits of using regression analysis:\n",
    "1. It indicates the **significant relationship** between dependent variable and independent variable.\n",
    "2. It indicates the **strength of impact** of multiple independent variables on a dependent variable.\n",
    "\n",
    "Regression analysis also allows us to compare the effects of variables measured on different scales, such as the effect of price changes and the number of promotional activities. This benefits help market researchers / data analysts/ data scientists to eliminate and evaluate the best set of variables to be used for building predictive models.\n",
    "\n",
    "# 3. How many types of regression techniques do we have?\n",
    "\n",
    "There are various kinds of regression techniques available to make predictions. These techniques are mostly driven by three metrics:\n",
    "- Number of independent variables\n",
    "- Type of dependent variables\n",
    "- Shape of regression line\n",
    "\n",
    "For the creative ones, you can even cook up new regressions, if you feel the need to use a combination of the parameters above, which people haven't used before. But before you start that, let us understand the most normally used regressions:\n",
    "\n",
    "## 1. Linear Regression\n",
    "It is one of the most widely known modelling techniques. Linear regression is usually among the first few topics which people pick while learning predictive modelling. In this technique, the dependent variable is continuous, independent variable(s) can be continuous or discrete, and nature of regression line is linear.\n",
    "\n",
    "Linear Regression establishes a relationship betweem dependent variable (Y) and one or more independent ariable (X) using the bet fit straight line (also known as rigression line). It is represented by equation Y=a+b*e where a is intercept, b is slope and e is error term.\n",
    "\n",
    "The difference between simple linear regression and multiple linear regression has (>1) independent variables, whereas simple linear regression has only 1 independet variable. Now, the question is \"How do we obtain best fit line?\"\n",
    "\n",
    "**How to obtain the best fit line (value a and b)?**\n",
    "This task can be easily accomplished by Least Square Method. It is the most common method used for fitting a regression line. It calculates the best fit line for the observed data by minimizing the sum of the squared, when added, there is no cancelling out between positive and negative values.\n",
    "$$ min_w ||Xw-y||_2^2$$\n",
    "We can evaluate the model performance using the metric **R-square**. To know more details about these metrics, you can read: Model Performance metric.\n",
    "\n",
    "**Important Points:**\n",
    "- There must be linear relationship between independent and dependent variables.\n",
    "- Multiple regression suffers from **multicollinearity, autocorrelation, heteroskedasticity**.\n",
    "- Linear Regression is very sensitive to **Outliers**. It can terribly affect the regression line and eventually the forecasted values.\n",
    "- Multicollinearity can increase the variance of the coefficient estimates and make the estimates very sensitive to minor changes in the model. The result is that the coefficient estimates are unstable.\n",
    "In case of multiple independent variables, we can go with **forward selection, backward elimination** and **step wise approach** for selection of most significant independedt variables."
   ]
  },
  {
   "cell_type": "markdown",
   "metadata": {},
   "source": [
    "## 2. Logistic Regression\n",
    "Logistic regression is used to find the probability of event=Success and event=Failure. We should use logistic regression when the dependent variable is binary (0/1, True/False, Yes/No) in nature. Here the value of Y ranges from 0 to 1 and it can represented by following equation.\n",
    "\n",
    "$$ \\text{odds}= \\frac{p}{(1-p)} = \\frac{\\text{probability of event occurrence}}{\\text{probability of not event occurrence}}$$\n",
    "\n",
    "$$\\text{ln(odds)} = \\text{ln(p/(1-p))}$$\n",
    "\n",
    "$$\\text{logit(p)} = \\text{ln(p/(1-p))} = \\text{b0+b1X1+b2X2+b3X3....+bkXk} $$\n",
    "Where, p is the probability of presence of the characteristic of interest. A question that you should ask here is \"why have we used log in the equation?\"\n",
    "\n",
    "Since we are working here with a binomial distribution (dependent variable), we need to choose a link function which is best suited for this distribution. And, it is logit function. In the equation above, the parameters are chosen to maximize the likelihood of observing the sample values rather than minimizing the sum of squared errors (like in ordinary regression).\n",
    "\n",
    "**Important Points:**\n",
    "- It is widely used for **classification problems**\n",
    "- Logistic regression doesn't require linear relationship between dependent and independent variables. It can handle various types of relationships because it applies a non-linear log transformation to the predicted odds ration.\n",
    "- To avoid overfitting and underfitting, we should include all significant variables. A good approach to ensure this practice is to use a step wise method to estimate the logistic regression\n",
    "- It requires **large sample sizes** because maximum likelihood estimates are less powerful at low sample sizes than ordinary least square\n",
    "- The independent variables should not be correlated with each other i.e. **no multi collinearity**. However, we have the options to include interaction effects of categorical variables in the analysis and in the model.\n",
    "- If the values of dependent variable is ordinal, then it is called as **Ordinal logistic regression**.\n",
    "- If dependent variable is multi class then it is known as **Multinomial Logistic Regression**."
   ]
  },
  {
   "cell_type": "markdown",
   "metadata": {},
   "source": [
    "# 3. Polynomial Regression\n",
    "A regression equation is a polynomial regression equation if the power of independent variable is more than 1. The equation below represents a polynomial equation:\n",
    "$$y = a + b*x^2$$\n",
    "In this regression technique, the best fit line is not a straight line. It is rather a curve that fits into the data points.\n",
    "\n",
    "**Important Points:**\n",
    "- While there might be a temptation to fit a higher degree polynomial to get lower error, this can result in overfitting. Always plot the relationships to see the fit and focus on making sure that the curve fits the nature of the problem.\n",
    "- Especially look out for curve towards the ends and see whether those shapes and trends make snes. Higher polynomials can end up producing weird results on extrapolation."
   ]
  },
  {
   "cell_type": "markdown",
   "metadata": {},
   "source": [
    "# 4 Stepwise Regression\n",
    "This form of regression is used when we deal with multiple independent variables. In this technique, the selection of independent variables is done with the help of an automatic process, which involves *no* human intervention.\n",
    "\n",
    "This feat is achieved by observing statistical value like R-square, t-stats and AIC metric to discern significant variables. Stepwise regression basically fits the regression model by adding/dropping co-variates one at a time based on a specified criterion. Some of the most commonly used Stepwise regression methods are listed below:\n",
    "- Standard stepwise regression does two things. It adds and removes predictors as needed for each step.\n",
    "- Forward selection starts with most significant predictors in the model and adds variable for each step.\n",
    "- Backward elimination starts with all predictors in the model and removes the least significant variable for each step.\n",
    "\n",
    "The aim of this modeling technique is to maximize the prediction power with minimum number of predictor variables. It is one of the method to handle higher dimensionality of data set."
   ]
  },
  {
   "cell_type": "markdown",
   "metadata": {},
   "source": [
    "# 5 Ridge Regression\n",
    "Ridge Regression is a technique used when the data suffers from multicollinearity (independent variables are highly correlated). In multicollinearity, even though the least squares estimates (OLS) are unbiased, their variances are large which deviates the observed value far from the true value. By adding a degree of bias to the regression estimates, ridge regression reduces the standard errors.\n",
    "\n",
    "Above, we saw the equation for linear regression\n",
    "$$y = a + b*x$$\n",
    "This equation also has an error term. The complete equation:\n",
    "$$y = a + b*x + e$$\n",
    "where error term (e) is the value needed to correct for a prediction error between the observed and predicted value\n",
    "\n",
    "For multiple independent variables:\n",
    "$$y = a + b1x1 + b2x3 + ... + e$$\n",
    "In a linear equation, prediction errors can be decomposed into two subs components. First is due to the **biased** and second is due to the **variance**. Prediction error can occur due to any one of these two or both components. Here, we'll discuss the error caused due to variance.\n",
    "\n",
    "Ridge regression solves the multicollinearity problem through shrinkage parameter $\\lambda$\n",
    "\n",
    "**Important Points:**\n",
    "- The assumptions of this regression is same as least squared regression except normality is not to be assumed\n",
    "- It shrinks the value of coefficients but doesn’t reaches zero, which suggests no feature selection feature\n",
    "- This is a regularization method and uses l2 regularization."
   ]
  },
  {
   "cell_type": "markdown",
   "metadata": {},
   "source": [
    "# 6. Lasso Regression\n",
    "\n",
    "Similar to Ridge Regression, Lasso (Least Absolute Shrinkage and Selection Operator) also penalizes the absolute size of the regression coefficients. In addition, it is capable of reducing the variability and improving the accuracy of linear regression models. \n",
    "\n",
    "Lasso regression differs from ridge regression in a way that it uses absolute values in the penalty function, instead of squares. This leads to penalizing (or equivalently constraining the sum of the absolute values of the estimates) values which causes some of the parameter estimates to turn out exactly zero. Larger the penalty applied, further the estimates get shrunk towards absolute zero. This results to variable selection out of given n variables.\n",
    "\n",
    "**Important Points:**\n",
    "- The assumptions of this regression is same as least squared regression except normality is not to be assumed\n",
    "- It shrinks coefficients to zero (exactly zero), which certainly helps in feature selection\n",
    "- This is a regularization method and uses l1 regularization\n",
    "- If group of predictors are highly correlated, lasso picks only one of them and shrinks the others to zero"
   ]
  },
  {
   "cell_type": "markdown",
   "metadata": {},
   "source": [
    "# 7. ElasticNet Regression\n",
    "\n",
    "ElasticNet is hybrid of Lasso and Ridge Regression techniques. It is trained with L1 and L2 prior as regularizer. Elastic-net is useful when there are multiple features which are correlated. Lasso is likely to pick one of these at random, while elastic-net is likely to pick both.\n",
    "\n",
    "A practical advantage of trading-off between Lasso and Ridge is that, it allows Elastic-Net to inherit some of Ridge’s stability under rotation.\n",
    "\n",
    "**Important Points:**\n",
    "- It encourages group effect in case of highly correlated variables\n",
    "- There are no limitations on the number of selected variables\n",
    "- It can suffer with double shrinkage\n",
    "\n",
    "Beyond these 7 most commonly used regression techniques, you can also look at other models like Bayesian, Ecological and Robust regression."
   ]
  },
  {
   "cell_type": "markdown",
   "metadata": {},
   "source": [
    "# How to select the right regression model?\n",
    "\n",
    "Life is usually simple, when you know only one or two techniques. One of the training institutes I know of tells their students – if the outcome is continuous – apply linear regression. If it is binary – use logistic regression! However, higher the number of options available at our disposal, more difficult it becomes to choose the right one. A similar case happens with regression models.\n",
    "\n",
    "Within multiple types of regression models, it is important to choose the best suited technique based on type of independent and dependent variables, dimensionality in the data and other essential characteristics of the data. Below are the key factors that you should practice to select the right regression model:\n",
    "\n",
    "1. Data exploration is an inevitable part of building predictive model. It should be you first step before selecting the right model like identify the relationship and impact of variables\n",
    "2. To compare the goodness of fit for different models, we can analyse different metrics like statistical significance of parameters, R-square, Adjusted r-square, AIC, BIC and error term. Another one is the Mallow’s Cp criterion. This essentially checks for possible bias in your model, by comparing the model with all possible submodels (or a careful selection of them).\n",
    "3. Cross-validation is the best way to evaluate models used for prediction. Here you divide your data set into two group (train and validate). A simple mean squared difference between the observed and predicted values give you a measure for the prediction accuracy.\n",
    "4. If your data set has multiple confounding variables, you should not choose automatic model selection method because you do not want to put these in a model at the same time.\n",
    "5. It’ll also depend on your objective. It can occur that a less powerful model is easy to implement as compared to a highly statistically significant model.\n",
    "6. Regression regularization methods(Lasso, Ridge and ElasticNet) works well in case of high dimensionality and multicollinearity among the variables in the data set."
   ]
  },
  {
   "cell_type": "code",
   "execution_count": null,
   "metadata": {
    "collapsed": true
   },
   "outputs": [],
   "source": []
  }
 ],
 "metadata": {
  "kernelspec": {
   "display_name": "Python 3",
   "language": "python",
   "name": "python3"
  },
  "language_info": {
   "codemirror_mode": {
    "name": "ipython",
    "version": 3
   },
   "file_extension": ".py",
   "mimetype": "text/x-python",
   "name": "python",
   "nbconvert_exporter": "python",
   "pygments_lexer": "ipython3",
   "version": "3.6.1"
  }
 },
 "nbformat": 4,
 "nbformat_minor": 2
}
